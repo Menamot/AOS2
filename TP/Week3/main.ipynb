{
 "cells": [
  {
   "cell_type": "code",
   "execution_count": 31,
   "outputs": [
    {
     "name": "stdout",
     "output_type": "stream",
     "text": [
      "1\n",
      "0\n",
      "0\n",
      "1\n",
      "1001 1001\n"
     ]
    },
    {
     "data": {
      "text/plain": "True"
     },
     "execution_count": 31,
     "metadata": {},
     "output_type": "execute_result"
    }
   ],
   "source": [
    "class Solution:\n",
    "    def isPalindrome(self, x: int) -> bool:\n",
    "        if x < 0 :\n",
    "            return False\n",
    "        z=x\n",
    "        num = z % 10\n",
    "        temp = 0\n",
    "        i=len(str(z))-1\n",
    "        \n",
    "        while z > 0 :\n",
    "            print(num)\n",
    "            temp += num * 10**i\n",
    "            z = z // 10\n",
    "            num = z % 10\n",
    "            i -= 1\n",
    "        print(temp,x)\n",
    "        if temp == x : return True\n",
    "        else : return False\n",
    "        \n",
    "a = Solution\n",
    "x = 1001\n",
    "a.isPalindrome(a,x)"
   ],
   "metadata": {
    "collapsed": false,
    "ExecuteTime": {
     "end_time": "2023-11-27T14:36:50.918695Z",
     "start_time": "2023-11-27T14:36:50.914776900Z"
    }
   },
   "id": "be490273316b06e9"
  },
  {
   "cell_type": "code",
   "execution_count": null,
   "outputs": [],
   "source": [],
   "metadata": {
    "collapsed": false
   },
   "id": "7c9e230855e1dbfb"
  }
 ],
 "metadata": {
  "kernelspec": {
   "display_name": "Python 3",
   "language": "python",
   "name": "python3"
  },
  "language_info": {
   "codemirror_mode": {
    "name": "ipython",
    "version": 2
   },
   "file_extension": ".py",
   "mimetype": "text/x-python",
   "name": "python",
   "nbconvert_exporter": "python",
   "pygments_lexer": "ipython2",
   "version": "2.7.6"
  }
 },
 "nbformat": 4,
 "nbformat_minor": 5
}
