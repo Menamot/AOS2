{
 "cells": [
  {
   "cell_type": "markdown",
   "id": "13865147",
   "metadata": {},
   "source": [
    "# Word embedding and RNN for sentiment analysis\n",
    "\n",
    "The goal of the following notebook is to predict whether a written\n",
    "critic about a movie is positive or negative. For that we will try\n",
    "three models. A simple linear model on the word embeddings, a\n",
    "recurrent neural network and a CNN."
   ]
  },
  {
   "cell_type": "code",
   "execution_count": 233,
   "outputs": [],
   "source": [
    "from timeit import default_timer as timer\n",
    "from typing import Iterable, List\n",
    "\n",
    "\n",
    "import appdirs                  # Used to cache pretrained embeddings\n",
    "import torch\n",
    "import torch.nn as nn\n",
    "import torch.nn.functional as F\n",
    "import torch.optim as optim\n",
    "import torchtext\n",
    "from torch.nn.utils.rnn import pad_sequence\n",
    "from torch.optim import Adam, Optimizer\n",
    "from torch.utils.data import DataLoader\n",
    "from torchtext import datasets\n",
    "from torchtext.data.utils import get_tokenizer\n",
    "from torchtext.vocab import build_vocab_from_iterator"
   ],
   "metadata": {
    "collapsed": false,
    "ExecuteTime": {
     "end_time": "2024-01-09T22:14:03.958429400Z",
     "start_time": "2024-01-09T22:14:03.899702900Z"
    }
   },
   "id": "7f2636b489ad27a8"
  },
  {
   "cell_type": "markdown",
   "source": [
    "## The IMDB dataset"
   ],
   "metadata": {
    "collapsed": false
   },
   "id": "bb5affa416fa0758"
  },
  {
   "cell_type": "code",
   "execution_count": 234,
   "outputs": [],
   "source": [
    "torch_cache = appdirs.user_cache_dir(\"pytorch\")\n",
    "train_iter, test_iter = datasets.IMDB(root=torch_cache, split=(\"train\", \"test\"))\n",
    "\n",
    "import random\n",
    "\n",
    "TRAIN_SET = list(train_iter)\n",
    "TEST_SET = list(test_iter)\n",
    "random.shuffle(TRAIN_SET)\n",
    "random.shuffle(TEST_SET)"
   ],
   "metadata": {
    "collapsed": false,
    "ExecuteTime": {
     "end_time": "2024-01-09T22:14:04.816693200Z",
     "start_time": "2024-01-09T22:14:03.902713100Z"
    }
   },
   "id": "8800910833a832d0"
  },
  {
   "cell_type": "code",
   "execution_count": 235,
   "outputs": [
    {
     "data": {
      "text/plain": "(1,\n \"Wow...what can I say...First off IMDb says this is in the late 60s...which means Carlito would be very close to going to prison, He got out in 75 and said he was in for 5 years. They used a bunch of nobody actors, and a story that didn't even make sense. They bring back only one actor, Guzman, and hes playing a totally different guy. Why did it end with him and this Puerto Rican chick? Wheres Gale? He said he was in love with her before. Wheres Kleinfeld? He said he knew him forever...You'd think he'd have been in this one. And if this made sense, where are Rocco and the black dude in the first one? It was all just stupid...This is an insult to Pacino and the first film.\")"
     },
     "execution_count": 235,
     "metadata": {},
     "output_type": "execute_result"
    }
   ],
   "source": [
    "TRAIN_SET[0]"
   ],
   "metadata": {
    "collapsed": false,
    "ExecuteTime": {
     "end_time": "2024-01-09T22:14:04.825843900Z",
     "start_time": "2024-01-09T22:14:04.816693200Z"
    }
   },
   "id": "9ec6f56bb7a6f2"
  },
  {
   "cell_type": "markdown",
   "source": [
    "## Global variables\n",
    "\n",
    "First let's define a few variables. `EMBEDDING_DIM` is the dimension\n",
    "of the vector space used to embed all the words of the vocabulary.\n",
    "`SEQ_LENGTH` is the maximum length of a sequence, `BATCH_SIZE` is\n",
    "the size of the batches used in stochastic optimization algorithms\n",
    "and `NUM_EPOCHS` the number of times we are going thought the entire\n",
    "training set during the training phase."
   ],
   "metadata": {
    "collapsed": false
   },
   "id": "ec34743c3fe5a9d4"
  },
  {
   "cell_type": "code",
   "execution_count": 236,
   "outputs": [],
   "source": [
    "EMBEDDING_DIM = 8\n",
    "SEQ_LENGTH = 64\n",
    "BATCH_SIZE = 512\n",
    "NUM_EPOCHS = 10"
   ],
   "metadata": {
    "collapsed": false,
    "ExecuteTime": {
     "end_time": "2024-01-09T22:14:04.827849800Z",
     "start_time": "2024-01-09T22:14:04.822586700Z"
    }
   },
   "id": "ae7ab709b1eb6b10"
  },
  {
   "cell_type": "markdown",
   "id": "42e445ea",
   "metadata": {},
   "source": [
    "We first need a tokenizer that take a text a returns a list of\n",
    "tokens. There are many tokenizers available from other libraries.\n",
    "Here we use the one that comes with Pytorch."
   ]
  },
  {
   "cell_type": "code",
   "execution_count": 237,
   "id": "0f9a90c8",
   "metadata": {
    "lines_to_next_cell": 1,
    "ExecuteTime": {
     "end_time": "2024-01-09T22:14:04.837359Z",
     "start_time": "2024-01-09T22:14:04.827849800Z"
    }
   },
   "outputs": [
    {
     "data": {
      "text/plain": "['all', 'your', 'base', 'are', 'belong', 'to', 'us']"
     },
     "execution_count": 237,
     "metadata": {},
     "output_type": "execute_result"
    }
   ],
   "source": [
    "tokenizer = get_tokenizer(\"basic_english\")\n",
    "tokenizer(\"All your base are belong to us\")"
   ]
  },
  {
   "cell_type": "markdown",
   "id": "257bc0b4",
   "metadata": {},
   "source": [
    "## Building the vocabulary\n",
    "\n",
    "Then we need to define the set of words that will be understood by\n",
    "the model: this is the vocabulary. We build it from the training\n",
    "set."
   ]
  },
  {
   "cell_type": "code",
   "execution_count": 238,
   "id": "2a1f36fa",
   "metadata": {
    "ExecuteTime": {
     "end_time": "2024-01-09T22:14:07.152839400Z",
     "start_time": "2024-01-09T22:14:04.835358200Z"
    }
   },
   "outputs": [
    {
     "data": {
      "text/plain": "935"
     },
     "execution_count": 238,
     "metadata": {},
     "output_type": "execute_result"
    }
   ],
   "source": [
    "def yield_tokens(data_iter: Iterable) -> List[str]:\n",
    "    for data_sample in data_iter:\n",
    "        yield tokenizer(data_sample[1])\n",
    "\n",
    "\n",
    "special_tokens = [\"<unk>\", \"<pad>\"]\n",
    "vocab = build_vocab_from_iterator(\n",
    "    yield_tokens(TRAIN_SET),\n",
    "    min_freq=10,\n",
    "    specials=special_tokens,\n",
    "    special_first=True)\n",
    "UNK_IDX, PAD_IDX = vocab.lookup_indices(special_tokens)\n",
    "VOCAB_SIZE = len(vocab)\n",
    "\n",
    "vocab['plenty']"
   ]
  },
  {
   "cell_type": "markdown",
   "id": "c102b9e3",
   "metadata": {},
   "source": [
    "\n",
    "To limit the number of tokens in the vocabulary, we specified\n",
    "`min_freq=10`: a token should be seen at least 10 times to be part\n",
    "of the vocabulary. Consequently some words in the training set (and\n",
    "in the test set) are not present in the vocabulary. We then need to\n",
    "set a default index."
   ]
  },
  {
   "cell_type": "code",
   "execution_count": 239,
   "id": "908bd6ab",
   "metadata": {
    "lines_to_next_cell": 1,
    "ExecuteTime": {
     "end_time": "2024-01-09T22:14:07.160334500Z",
     "start_time": "2024-01-09T22:14:07.152839400Z"
    }
   },
   "outputs": [
    {
     "data": {
      "text/plain": "0"
     },
     "execution_count": 239,
     "metadata": {},
     "output_type": "execute_result"
    }
   ],
   "source": [
    "# vocab['pouet']                  # Error\n",
    "vocab.set_default_index(UNK_IDX)\n",
    "vocab['pouet']"
   ]
  },
  {
   "cell_type": "markdown",
   "id": "dfaace6a",
   "metadata": {},
   "source": [
    "# Collate function\n",
    "\n",
    "The collate function maps raw samples coming from the dataset to\n",
    "padded tensors of numericalized tokens ready to be fed to the model."
   ]
  },
  {
   "cell_type": "code",
   "execution_count": 240,
   "id": "883bece4",
   "metadata": {
    "ExecuteTime": {
     "end_time": "2024-01-09T22:14:07.171670900Z",
     "start_time": "2024-01-09T22:14:07.157949500Z"
    }
   },
   "outputs": [
    {
     "name": "stdout",
     "output_type": "stream",
     "text": [
      "Number of training examples: 25000\n",
      "Number of testing examples: 25000\n"
     ]
    }
   ],
   "source": [
    "def collate_fn(batch: List):\n",
    "    def collate(text):\n",
    "        \"\"\"Turn a text into a tensor of integers.\"\"\"\n",
    "\n",
    "        tokens = tokenizer(text)[:SEQ_LENGTH]\n",
    "        return torch.LongTensor(vocab(tokens))\n",
    "\n",
    "    src_batch = [collate(text) for _, text in batch]\n",
    "\n",
    "    # Pad list of tensors using `pad_sequence`\n",
    "    src_batch = pad_sequence(src_batch,padding_value=PAD_IDX)\n",
    "\n",
    "    # Turn 2 (positive review) and 1 (negative review) labels into 1 and 0\n",
    "    tgt_batch = torch.Tensor([label - 1 for label, _ in batch])\n",
    "\n",
    "    return src_batch, tgt_batch\n",
    "\n",
    "\n",
    "print(f\"Number of training examples: {len(TRAIN_SET)}\")\n",
    "print(f\"Number of testing examples: {len(TEST_SET)}\")"
   ]
  },
  {
   "cell_type": "code",
   "execution_count": 241,
   "id": "5a9fc60f",
   "metadata": {
    "ExecuteTime": {
     "end_time": "2024-01-09T22:14:07.185328300Z",
     "start_time": "2024-01-09T22:14:07.173175200Z"
    }
   },
   "outputs": [
    {
     "data": {
      "text/plain": "(tensor([[ 13],\n         [246],\n         [  0]]),\n tensor([0.]))"
     },
     "execution_count": 241,
     "metadata": {},
     "output_type": "execute_result"
    }
   ],
   "source": [
    "collate_fn([\n",
    "    (1, \"i am Groot\")\n",
    "])"
   ]
  },
  {
   "cell_type": "markdown",
   "id": "41fe5c63",
   "metadata": {
    "lines_to_next_cell": 2
   },
   "source": [
    "## Training a linear classifier with an embedding\n",
    "\n",
    "We first test a simple linear classifier on the word embeddings."
   ]
  },
  {
   "cell_type": "code",
   "execution_count": 242,
   "id": "6d22e51b",
   "metadata": {
    "lines_to_next_cell": 2,
    "ExecuteTime": {
     "end_time": "2024-01-09T22:14:07.215196500Z",
     "start_time": "2024-01-09T22:14:07.180729400Z"
    }
   },
   "outputs": [],
   "source": [
    "class EmbeddingNet(nn.Module):\n",
    "    def __init__(self, vocab_size, embedding_dim, seq_length):\n",
    "        super().__init__()\n",
    "        self.embedding_dim = embedding_dim\n",
    "        self.seq_length = seq_length\n",
    "        self.vocab_size = vocab_size\n",
    "\n",
    "        # Define an embedding of `vocab_size` words into a vector space\n",
    "        # of dimension `embedding_dim`.\n",
    "        # <answer>\n",
    "        self.embedding = nn.Embedding(self.vocab_size, self.embedding_dim)\n",
    "        # </answer>\n",
    "\n",
    "        # Define a linear layer from dimension `seq_length` *\n",
    "        # `embedding_dim` to 1.\n",
    "        # <answer>\n",
    "        self.l1 = nn.Linear(self.seq_length * self.embedding_dim, 1)\n",
    "        # </answer>\n",
    "\n",
    "    def forward(self, x):\n",
    "        # `x` is of size `seq_length` * `batch_size`\n",
    "\n",
    "        # Compute the embedding `embedded` of the batch `x`. `embedded` is\n",
    "        # of size `batch_size` * `seq_length` * `embedding_dim`\n",
    "        # <answer>\n",
    "        embedded = self.embedding(x)\n",
    "        # </answer>\n",
    "\n",
    "        # Flatten the embedded words and feed it to the linear layer.\n",
    "        # `flatten` is of size `batch_size` * (`seq_length` * `embedding_dim`)\n",
    "        # <answer>\n",
    "        flatten = embedded.view(-1, self.seq_length * self.embedding_dim)\n",
    "        # </answer>\n",
    "\n",
    "        # Apply the linear layer and return a squeezed version\n",
    "        # `l1` is of size `batch_size`\n",
    "        # <answer>\n",
    "        return self.l1(flatten).squeeze()\n",
    "        # </answer>"
   ]
  },
  {
   "cell_type": "markdown",
   "id": "c3b4d822",
   "metadata": {
    "lines_to_next_cell": 2
   },
   "source": [
    "We need to implement an accuracy function to be used in the `Trainer`\n",
    "class (see below)."
   ]
  },
  {
   "cell_type": "code",
   "execution_count": 243,
   "id": "f7f6bef1",
   "metadata": {
    "ExecuteTime": {
     "end_time": "2024-01-09T22:14:07.216991300Z",
     "start_time": "2024-01-09T22:14:07.185328300Z"
    }
   },
   "outputs": [],
   "source": [
    "def accuracy(predictions, labels):\n",
    "    # `predictions` and `labels` are both tensors of same length\n",
    "\n",
    "    # Implement accuracy\n",
    "    # <answer>\n",
    "    return torch.sum((torch.sigmoid(predictions) > 0.5).float() == (labels > .5)).item() / len(\n",
    "        predictions\n",
    "    )\n",
    "    # </answer>\n",
    "\n",
    "\n",
    "assert accuracy(torch.Tensor([1, -2, 3]), torch.Tensor([1, 0, 1])) == 1\n",
    "assert accuracy(torch.Tensor([1, -2, -3]), torch.Tensor([1, 0, 1])) == 2 / 3"
   ]
  },
  {
   "cell_type": "markdown",
   "id": "09f20725",
   "metadata": {},
   "source": [
    "Train and test functions"
   ]
  },
  {
   "cell_type": "code",
   "execution_count": 244,
   "id": "59571942",
   "metadata": {
    "lines_to_next_cell": 1,
    "ExecuteTime": {
     "end_time": "2024-01-09T22:14:07.216991300Z",
     "start_time": "2024-01-09T22:14:07.194032500Z"
    }
   },
   "outputs": [],
   "source": [
    "def train_epoch(model: nn.Module, optimizer: Optimizer):\n",
    "    model.to(device)\n",
    "\n",
    "    # Training mode\n",
    "    model.train()\n",
    "\n",
    "    loss_fn = nn.BCEWithLogitsLoss()\n",
    "\n",
    "    train_dataloader = DataLoader(\n",
    "        TRAIN_SET, batch_size=BATCH_SIZE, collate_fn=collate_fn\n",
    "    )\n",
    "\n",
    "    matches = 0\n",
    "    losses = 0\n",
    "    for sequences, labels in train_dataloader:\n",
    "        sequences, labels = sequences.to(device), labels.to(device)\n",
    "\n",
    "        # Implement a step of the algorithm:\n",
    "        #\n",
    "        # - set gradients to zero\n",
    "        # - forward propagate examples in `batch`\n",
    "        # - compute `loss` with chosen criterion\n",
    "        # - back-propagate gradients\n",
    "        # - gradient step\n",
    "        # <answer>\n",
    "        model.zero_grad()\n",
    "        predictions = model(sequences)\n",
    "        loss = loss_fn(predictions, labels)\n",
    "        loss.backward()\n",
    "        optimizer.step()\n",
    "        losses += loss.item()\n",
    "        # </answer>\n",
    "\n",
    "        acc = accuracy(predictions, labels)\n",
    "\n",
    "        matches += len(predictions) * acc\n",
    "\n",
    "    return losses / len(TRAIN_SET), matches / len(TRAIN_SET)"
   ]
  },
  {
   "cell_type": "code",
   "execution_count": 245,
   "id": "afd01351",
   "metadata": {
    "ExecuteTime": {
     "end_time": "2024-01-09T22:14:07.216991300Z",
     "start_time": "2024-01-09T22:14:07.200097Z"
    }
   },
   "outputs": [],
   "source": [
    "def evaluate(model: nn.Module):\n",
    "    model.to(device)\n",
    "    model.eval()\n",
    "\n",
    "    loss_fn = nn.BCEWithLogitsLoss()\n",
    "\n",
    "    val_dataloader = DataLoader(\n",
    "        TEST_SET, batch_size=BATCH_SIZE, collate_fn=collate_fn\n",
    "    )\n",
    "\n",
    "    losses = 0\n",
    "    matches = 0\n",
    "    for sequences, labels in val_dataloader:\n",
    "        sequences, labels = sequences.to(device), labels.to(device)\n",
    "\n",
    "        predictions = model(sequences)\n",
    "        loss = loss_fn(predictions, labels)\n",
    "        acc = accuracy(predictions, labels)\n",
    "        matches += len(predictions) * acc\n",
    "        losses += loss.item()\n",
    "\n",
    "    return losses / len(TEST_SET), matches / len(TEST_SET)"
   ]
  },
  {
   "cell_type": "code",
   "execution_count": 246,
   "id": "c97ae854",
   "metadata": {
    "lines_to_next_cell": 1,
    "ExecuteTime": {
     "end_time": "2024-01-09T22:14:07.217996100Z",
     "start_time": "2024-01-09T22:14:07.205795300Z"
    }
   },
   "outputs": [],
   "source": [
    "def train(model, optimizer):\n",
    "    for epoch in range(1, NUM_EPOCHS + 1):\n",
    "        start_time = timer()\n",
    "        train_loss, train_acc = train_epoch(model, optimizer)\n",
    "        end_time = timer()\n",
    "        val_loss, val_acc = evaluate(model)\n",
    "        print(\n",
    "            f\"Epoch: {epoch}, \"\n",
    "            f\"Train loss: {train_loss:.3f}, \"\n",
    "            f\"Train acc: {train_acc:.3f}, \"\n",
    "            f\"Val loss: {val_loss:.3f}, \"\n",
    "            f\"Val acc: {val_acc:.3f}, \"\n",
    "            f\"Epoch time = {(end_time - start_time):.3f}s\"\n",
    "        )"
   ]
  },
  {
   "cell_type": "code",
   "execution_count": 247,
   "id": "098d2785",
   "metadata": {
    "ExecuteTime": {
     "end_time": "2024-01-09T22:14:07.231504500Z",
     "start_time": "2024-01-09T22:14:07.212688200Z"
    }
   },
   "outputs": [],
   "source": [
    "def predict_sentiment(model, sentence):\n",
    "    \"Predict sentiment of given sentence according to model\"\n",
    "\n",
    "    tensor, _ = collate_fn([(\"dummy\", sentence)])\n",
    "    prediction = model(tensor)\n",
    "    pred = torch.sigmoid(prediction)\n",
    "    return pred.item()"
   ]
  },
  {
   "cell_type": "code",
   "execution_count": 248,
   "id": "cef3e566",
   "metadata": {
    "lines_to_next_cell": 2,
    "ExecuteTime": {
     "end_time": "2024-01-09T22:15:06.249404400Z",
     "start_time": "2024-01-09T22:14:07.219995100Z"
    }
   },
   "outputs": [
    {
     "name": "stdout",
     "output_type": "stream",
     "text": [
      "164009\n",
      "Epoch: 1, Train loss: 0.001, Train acc: 0.501, Val loss: 0.001, Val acc: 0.501, Epoch time = 2.220s\n",
      "Epoch: 2, Train loss: 0.001, Train acc: 0.522, Val loss: 0.001, Val acc: 0.502, Epoch time = 2.167s\n",
      "Epoch: 3, Train loss: 0.001, Train acc: 0.538, Val loss: 0.001, Val acc: 0.500, Epoch time = 2.158s\n",
      "Epoch: 4, Train loss: 0.001, Train acc: 0.544, Val loss: 0.001, Val acc: 0.500, Epoch time = 2.177s\n",
      "Epoch: 5, Train loss: 0.001, Train acc: 0.551, Val loss: 0.001, Val acc: 0.501, Epoch time = 2.293s\n",
      "Epoch: 6, Train loss: 0.001, Train acc: 0.555, Val loss: 0.001, Val acc: 0.499, Epoch time = 3.308s\n",
      "Epoch: 7, Train loss: 0.001, Train acc: 0.560, Val loss: 0.001, Val acc: 0.499, Epoch time = 3.941s\n",
      "Epoch: 8, Train loss: 0.001, Train acc: 0.564, Val loss: 0.001, Val acc: 0.499, Epoch time = 4.045s\n",
      "Epoch: 9, Train loss: 0.001, Train acc: 0.568, Val loss: 0.001, Val acc: 0.499, Epoch time = 3.911s\n",
      "Epoch: 10, Train loss: 0.001, Train acc: 0.572, Val loss: 0.001, Val acc: 0.500, Epoch time = 3.954s\n"
     ]
    }
   ],
   "source": [
    "embedding_net = EmbeddingNet(VOCAB_SIZE, EMBEDDING_DIM, SEQ_LENGTH)\n",
    "print(sum(torch.numel(e) for e in embedding_net.parameters()))\n",
    "\n",
    "device = \"cuda:0\" if torch.cuda.is_available() else \"cpu\"\n",
    "\n",
    "optimizer = Adam(embedding_net.parameters())\n",
    "train(embedding_net, optimizer)\n",
    "\n",
    "\n",
    "# # %% [markdown]\n",
    "# # ## Training a linear classifier with a pretrained embedding\n",
    "# #\n",
    "# # Load a GloVe pretrained embedding instead\n",
    "\n",
    "# Download GloVe word embedding\n",
    "glove = torchtext.vocab.GloVe(name=\"6B\", dim=\"100\", cache=torch_cache)\n",
    "\n",
    "# Get token embedding of our `vocab`\n",
    "vocab_vectors = glove.get_vecs_by_tokens(vocab.get_itos())\n",
    "\n",
    "# tot_transferred = 0\n",
    "# for v in vocab_vectors:\n",
    "#     if not v.equal(torch.zeros(100)):\n",
    "#         tot_transferred += 1\n",
    "\n",
    "# tot_transferred, len(vocab)"
   ]
  },
  {
   "cell_type": "code",
   "execution_count": 252,
   "outputs": [
    {
     "data": {
      "text/plain": "torch.Size([20437, 100])"
     },
     "execution_count": 252,
     "metadata": {},
     "output_type": "execute_result"
    }
   ],
   "source": [
    "vocab_vectors.size()"
   ],
   "metadata": {
    "collapsed": false,
    "ExecuteTime": {
     "end_time": "2024-01-09T22:22:40.613032800Z",
     "start_time": "2024-01-09T22:22:40.598230600Z"
    }
   },
   "id": "89b7902e3209834e"
  },
  {
   "cell_type": "code",
   "execution_count": 249,
   "id": "db3b9ecc",
   "metadata": {
    "ExecuteTime": {
     "end_time": "2024-01-09T22:19:02.409829200Z",
     "start_time": "2024-01-09T22:18:20.361747900Z"
    }
   },
   "outputs": [
    {
     "name": "stdout",
     "output_type": "stream",
     "text": [
      "2050101\n",
      "Epoch: 1, Train loss: 0.001, Train acc: 0.496, Val loss: 0.001, Val acc: 0.501, Epoch time = 2.276s\n",
      "Epoch: 2, Train loss: 0.001, Train acc: 0.550, Val loss: 0.001, Val acc: 0.500, Epoch time = 2.150s\n",
      "Epoch: 3, Train loss: 0.001, Train acc: 0.585, Val loss: 0.001, Val acc: 0.501, Epoch time = 2.109s\n",
      "Epoch: 4, Train loss: 0.001, Train acc: 0.606, Val loss: 0.001, Val acc: 0.499, Epoch time = 2.116s\n",
      "Epoch: 5, Train loss: 0.001, Train acc: 0.621, Val loss: 0.001, Val acc: 0.498, Epoch time = 2.172s\n",
      "Epoch: 6, Train loss: 0.001, Train acc: 0.631, Val loss: 0.001, Val acc: 0.498, Epoch time = 2.112s\n",
      "Epoch: 7, Train loss: 0.001, Train acc: 0.640, Val loss: 0.001, Val acc: 0.498, Epoch time = 2.165s\n",
      "Epoch: 8, Train loss: 0.001, Train acc: 0.646, Val loss: 0.001, Val acc: 0.498, Epoch time = 2.273s\n",
      "Epoch: 9, Train loss: 0.001, Train acc: 0.650, Val loss: 0.001, Val acc: 0.498, Epoch time = 2.133s\n",
      "Epoch: 10, Train loss: 0.001, Train acc: 0.655, Val loss: 0.002, Val acc: 0.497, Epoch time = 2.143s\n"
     ]
    }
   ],
   "source": [
    "class GloVeEmbeddingNet(nn.Module):\n",
    "    def __init__(self, seq_length, vocab_vectors, freeze=True):\n",
    "        super().__init__()\n",
    "        self.seq_length = seq_length\n",
    "\n",
    "        # Define `embedding_dim` from vocabulary and the pretrained `embedding`.\n",
    "        self.embedding_dim = vocab_vectors.size(1)\n",
    "        self.embedding = nn.Embedding.from_pretrained(vocab_vectors, freeze=freeze)\n",
    "\n",
    "        self.l1 = nn.Linear(self.seq_length * self.embedding_dim, 1)\n",
    "\n",
    "    def forward(self, x):\n",
    "        # `x` is of size batch_size * seq_length\n",
    "\n",
    "        # `embedded` is of size batch_size * seq_length * embedding_dim\n",
    "        embedded = self.embedding(x)\n",
    "\n",
    "        # `flatten` is of size batch_size * (seq_length * embedding_dim)\n",
    "        flatten = embedded.view(-1, self.seq_length * self.embedding_dim)\n",
    "\n",
    "        # L1 is of size batch_size\n",
    "        return self.l1(flatten).squeeze()\n",
    "\n",
    "\n",
    "glove_embedding_net1 = GloVeEmbeddingNet(SEQ_LENGTH, vocab_vectors, freeze=True)\n",
    "print(sum(torch.numel(e) for e in glove_embedding_net1.parameters()))\n",
    "\n",
    "optimizer = Adam(glove_embedding_net1.parameters())\n",
    "train(glove_embedding_net1, optimizer)"
   ]
  },
  {
   "cell_type": "markdown",
   "id": "4300f2cd",
   "metadata": {
    "lines_to_next_cell": 2
   },
   "source": [
    "## Use pretrained embedding without fine-tuning\n",
    "\n",
    "Define model and freeze the embedding\n",
    "glove_embedding_net1 = ..."
   ]
  },
  {
   "cell_type": "markdown",
   "id": "585ab1c0",
   "metadata": {},
   "source": [
    "## Fine-tuning the pretrained embedding"
   ]
  },
  {
   "cell_type": "code",
   "execution_count": 253,
   "id": "5c18f6e8",
   "metadata": {
    "lines_to_next_cell": 1,
    "ExecuteTime": {
     "end_time": "2024-01-09T22:24:52.963039Z",
     "start_time": "2024-01-09T22:24:07.485271500Z"
    }
   },
   "outputs": [
    {
     "name": "stdout",
     "output_type": "stream",
     "text": [
      "2050101\n",
      "Epoch: 1, Train loss: 0.001, Train acc: 0.495, Val loss: 0.001, Val acc: 0.501, Epoch time = 2.572s\n",
      "Epoch: 2, Train loss: 0.001, Train acc: 0.566, Val loss: 0.001, Val acc: 0.499, Epoch time = 2.453s\n",
      "Epoch: 3, Train loss: 0.001, Train acc: 0.622, Val loss: 0.001, Val acc: 0.499, Epoch time = 2.446s\n",
      "Epoch: 4, Train loss: 0.001, Train acc: 0.670, Val loss: 0.001, Val acc: 0.497, Epoch time = 2.432s\n",
      "Epoch: 5, Train loss: 0.001, Train acc: 0.715, Val loss: 0.001, Val acc: 0.497, Epoch time = 2.489s\n",
      "Epoch: 6, Train loss: 0.001, Train acc: 0.755, Val loss: 0.002, Val acc: 0.495, Epoch time = 2.455s\n",
      "Epoch: 7, Train loss: 0.001, Train acc: 0.784, Val loss: 0.002, Val acc: 0.497, Epoch time = 2.469s\n",
      "Epoch: 8, Train loss: 0.001, Train acc: 0.794, Val loss: 0.002, Val acc: 0.499, Epoch time = 2.426s\n",
      "Epoch: 9, Train loss: 0.001, Train acc: 0.834, Val loss: 0.002, Val acc: 0.493, Epoch time = 2.435s\n",
      "Epoch: 10, Train loss: 0.001, Train acc: 0.896, Val loss: 0.002, Val acc: 0.493, Epoch time = 2.517s\n"
     ]
    }
   ],
   "source": [
    "# Define model and don't freeze embedding weights\n",
    "glove_embedding_net2 = GloVeEmbeddingNet(SEQ_LENGTH, vocab_vectors, freeze=False)\n",
    "print(sum(torch.numel(e) for e in glove_embedding_net2.parameters()))\n",
    "\n",
    "optimizer = Adam(glove_embedding_net2.parameters())\n",
    "train(glove_embedding_net2, optimizer)"
   ]
  },
  {
   "cell_type": "markdown",
   "id": "3b1f1bf3",
   "metadata": {},
   "source": [
    "## Recurrent neural network with frozen pretrained embedding"
   ]
  },
  {
   "cell_type": "code",
   "execution_count": 255,
   "id": "29e501c2",
   "metadata": {
    "lines_to_next_cell": 1,
    "ExecuteTime": {
     "end_time": "2024-01-09T22:38:43.038749900Z",
     "start_time": "2024-01-09T22:35:53.632280200Z"
    }
   },
   "outputs": [
    {
     "name": "stdout",
     "output_type": "stream",
     "text": [
      "60701\n",
      "Epoch: 1, Train loss: 0.001, Train acc: 0.568, Val loss: 0.001, Val acc: 0.665, Epoch time = 10.868s\n",
      "Epoch: 2, Train loss: 0.001, Train acc: 0.688, Val loss: 0.001, Val acc: 0.695, Epoch time = 10.366s\n",
      "Epoch: 3, Train loss: 0.001, Train acc: 0.719, Val loss: 0.001, Val acc: 0.725, Epoch time = 10.787s\n",
      "Epoch: 4, Train loss: 0.001, Train acc: 0.740, Val loss: 0.001, Val acc: 0.743, Epoch time = 10.604s\n",
      "Epoch: 5, Train loss: 0.001, Train acc: 0.757, Val loss: 0.001, Val acc: 0.756, Epoch time = 10.520s\n",
      "Epoch: 6, Train loss: 0.001, Train acc: 0.768, Val loss: 0.001, Val acc: 0.764, Epoch time = 10.458s\n",
      "Epoch: 7, Train loss: 0.001, Train acc: 0.773, Val loss: 0.001, Val acc: 0.766, Epoch time = 10.528s\n",
      "Epoch: 8, Train loss: 0.001, Train acc: 0.778, Val loss: 0.001, Val acc: 0.770, Epoch time = 10.559s\n",
      "Epoch: 9, Train loss: 0.001, Train acc: 0.784, Val loss: 0.001, Val acc: 0.771, Epoch time = 10.731s\n",
      "Epoch: 10, Train loss: 0.001, Train acc: 0.789, Val loss: 0.001, Val acc: 0.770, Epoch time = 10.402s\n"
     ]
    }
   ],
   "source": [
    "class RNN(nn.Module):\n",
    "    def __init__(self, hidden_size, vocab_vectors, freeze=True):\n",
    "        super(RNN, self).__init__()\n",
    "\n",
    "        # Define pretrained embedding\n",
    "        self.embedding = nn.Embedding.from_pretrained(vocab_vectors, freeze=freeze)\n",
    "\n",
    "        # Size of input `x_t` from `embedding`\n",
    "        self.embedding_size = self.embedding.embedding_dim\n",
    "        self.input_size = self.embedding_size\n",
    "\n",
    "        # Size of hidden state `h_t`\n",
    "        self.hidden_size = hidden_size\n",
    "\n",
    "        # Define a GRU\n",
    "        self.gru = nn.GRU(input_size=self.input_size, hidden_size=self.hidden_size)\n",
    "\n",
    "        # Linear layer on last hidden state\n",
    "        self.linear = nn.Linear(hidden_size, 1)\n",
    "\n",
    "    def forward(self, x, h0=None):\n",
    "        # `x` is of size `seq_length` * `batch_size` and `h0` is of size 1\n",
    "        # * `batch_size` * `hidden_size`\n",
    "\n",
    "        # Define first hidden state in not provided\n",
    "        if h0 is None:\n",
    "            # Get batch and define `h0` which is of size 1 *\n",
    "            # `batch_size` * `hidden_size`\n",
    "            batch_size = x.size(1)\n",
    "            h0 = torch.zeros(self.gru.num_layers, batch_size, self.hidden_size).to(device)\n",
    "        # `embedded` is of size `seq_length` * `batch_size` *\n",
    "        # `embedding_dim`\n",
    "        embedded = self.embedding(x)\n",
    "\n",
    "        # Define `output` and `hidden` returned by GRU:\n",
    "        #\n",
    "        # - `output` is of size `seq_length` * `batch_size` * `embedding_dim`\n",
    "        #   and gathers all the hidden states along the sequence.\n",
    "        # - `hidden` is of size 1 * `batch_size` * `embedding_dim` and is the\n",
    "        #   last hidden state.\n",
    "        output, hidden = self.gru(embedded, h0)\n",
    "\n",
    "        # Apply a linear layer on the last hidden state to have a\n",
    "        # score tensor of size 1 * `batch_size` * 1, and return a\n",
    "        # tensor of size `batch_size`.\n",
    "        return  self.linear(hidden).squeeze()\n",
    "\n",
    "\n",
    "rnn = RNN(hidden_size=100, vocab_vectors=vocab_vectors)\n",
    "print(sum(torch.numel(e) for e in rnn.parameters() if e.requires_grad))\n",
    "\n",
    "optimizer = optim.Adam(filter(lambda p: p.requires_grad, rnn.parameters()), lr=0.001)\n",
    "train(rnn, optimizer)"
   ]
  },
  {
   "cell_type": "markdown",
   "id": "d30942bd",
   "metadata": {},
   "source": [
    "## CNN based text classification"
   ]
  },
  {
   "cell_type": "code",
   "execution_count": null,
   "id": "e8568bbf",
   "metadata": {},
   "outputs": [],
   "source": [
    "class CNN(nn.Module):\n",
    "    def __init__(self, vocab_vectors, freeze=False):\n",
    "        super().__init__()\n",
    "\n",
    "        self.embedding = nn.Embedding.from_pretrained(vocab_vectors, freeze=freeze)\n",
    "        self.embedding_dim = self.embedding.embedding_dim\n",
    "\n",
    "        self.conv_0 = nn.Conv2d(\n",
    "            in_channels=1, out_channels=100, kernel_size=(3, self.embedding_dim)\n",
    "        )\n",
    "        self.conv_1 = nn.Conv2d(\n",
    "            in_channels=1, out_channels=100, kernel_size=(4, self.embedding_dim)\n",
    "        )\n",
    "        self.conv_2 = nn.Conv2d(\n",
    "            in_channels=1, out_channels=100, kernel_size=(5, self.embedding_dim)\n",
    "        )\n",
    "        self.linear = nn.Linear(3 * 100, 1)\n",
    "        self.dropout = nn.Dropout(0.5)\n",
    "\n",
    "    def forward(self, x):\n",
    "        # Input `x` is of size `seq_length` * `batch_size`\n",
    "        embedded = self.embedding(x)\n",
    "\n",
    "        # The tensor `embedded` is of size `seq_length` * `batch_size` * `embedding_dim` \n",
    "        # and should be of size `batch_size` * (`n_channels`=1) * `seq_length` * `embedding_dim` for the\n",
    "        # convolutional layers. You can use `transpose` and `unsqueeze` to make\n",
    "        # the transformation.\n",
    "        embedded = embedded.transpose(0, 1).unsqueeze(1)\n",
    "\n",
    "        # Tensor `embedded` is now of size `batch_size` * 1 * `seq_length` * `embedding_dim` before convolution and should\n",
    "        # be of size `batch_size` * (`out_channels` = 100) * (`seq_length` - `kernel_size[0]` + 1) after convolution and\n",
    "        # squeezing.\n",
    "        # Implement the convolution layer\n",
    "        conved_0 = ...\n",
    "        conved_1 = ...\n",
    "        conved_2 = ...\n",
    "\n",
    "        # Non-linearity step, we use ReLU activation\n",
    "        conved_0_relu = ...\n",
    "        conved_1_relu = ...\n",
    "        conved_2_relu = ...\n",
    "\n",
    "        # Max-pooling layer: pooling along whole sequence\n",
    "        # Implement max pooling\n",
    "        seq_len_0 = ...\n",
    "        pooled_0 = ...\n",
    "        seq_len_1 = ...\n",
    "        pooled_1 = ...\n",
    "        seq_len_2 = ...\n",
    "        pooled_2 = ...\n",
    "\n",
    "        # Dropout on concatenated pooled features\n",
    "        cat = self.dropout(torch.cat((pooled_0, pooled_1, pooled_2), dim=1))\n",
    "\n",
    "        # Linear layer\n",
    "        return self.linear(cat).squeeze()"
   ]
  },
  {
   "cell_type": "code",
   "execution_count": null,
   "id": "8bbc0ae0",
   "metadata": {},
   "outputs": [],
   "source": [
    "cnn = CNN(vocab_vectors)\n",
    "optimizer = optim.Adam(cnn.parameters())\n",
    "train(cnn, optimizer)"
   ]
  },
  {
   "cell_type": "markdown",
   "id": "8ac732a5",
   "metadata": {},
   "source": [
    "## Test function"
   ]
  }
 ],
 "metadata": {
  "jupytext": {
   "cell_metadata_filter": "-all",
   "main_language": "python",
   "notebook_metadata_filter": "-all"
  },
  "kernelspec": {
   "name": "python3",
   "language": "python",
   "display_name": "Python 3 (ipykernel)"
  }
 },
 "nbformat": 4,
 "nbformat_minor": 5
}
